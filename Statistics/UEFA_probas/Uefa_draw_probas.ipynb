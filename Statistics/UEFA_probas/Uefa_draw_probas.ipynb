{
  "nbformat": 4,
  "nbformat_minor": 0,
  "metadata": {
    "colab": {
      "name": "Uefa_probas.ipynb",
      "provenance": [],
      "collapsed_sections": []
    },
    "kernelspec": {
      "name": "python3",
      "display_name": "Python 3"
    }
  },
  "cells": [
    {
      "cell_type": "markdown",
      "metadata": {
        "id": "OrNIcAM4rVhF"
      },
      "source": [
        "# Import libs"
      ]
    },
    {
      "cell_type": "code",
      "metadata": {
        "id": "AeVq_fLeupoN"
      },
      "source": [
        "import pandas as pd\r\n",
        "import numpy as np\r\n",
        "import itertools\r\n",
        "import matplotlib.pyplot as plt\r\n",
        "import seaborn as sns\r\n",
        "from functools import reduce"
      ],
      "execution_count": null,
      "outputs": []
    },
    {
      "cell_type": "markdown",
      "metadata": {
        "id": "Haotlq5mrdZM"
      },
      "source": [
        "## Teams & Data"
      ]
    },
    {
      "cell_type": "code",
      "metadata": {
        "id": "FP4oIna_utUW"
      },
      "source": [
        "group_winners = np.array([\r\n",
        "    ['FCB', 'GER', 'A'],\r\n",
        "    ['RM', 'ESP', 'B'],\r\n",
        "    ['City', 'ENG', 'C'],\r\n",
        "    ['Liverpool', 'ENG', 'D'],\r\n",
        "    ['Chelsea', 'ENG', 'E'],\r\n",
        "    ['Dortmund', 'GER', 'F'],\r\n",
        "    ['Juventus', 'ITA', 'G'],\r\n",
        "    ['PSG', 'FRA', 'H']\r\n",
        "])\r\n",
        "    \r\n",
        "group_runners = [\r\n",
        "    ['ATM', 'ESP', 'A'],\r\n",
        "    ['BMG', 'GER', 'B'],\r\n",
        "    ['Porto', 'NED', 'C'],\r\n",
        "    ['Atlanta', 'ITA', 'D'],\r\n",
        "    ['Sevilla', 'ESP', 'E'],\r\n",
        "    ['Lazio', 'ITA', 'F'],\r\n",
        "    ['Barcelona', 'ESP', 'G'],\r\n",
        "    ['Leipzig', 'GER', 'H']\r\n",
        "]\r\n",
        "\r\n",
        "group_winners = pd.DataFrame(group_winners, columns=[\"Team\", \"Country\", \"Group\"])\r\n",
        "group_runners = pd.DataFrame(group_runners, columns=[\"Team\", \"Country\", \"Group\"])\r\n",
        "\r\n",
        "teams = group_winners.Team.append(group_runners.Team).values"
      ],
      "execution_count": null,
      "outputs": []
    },
    {
      "cell_type": "markdown",
      "metadata": {
        "id": "H6WUh3VJrnP4"
      },
      "source": [
        "# Get all possible pairings within the rules"
      ]
    },
    {
      "cell_type": "code",
      "metadata": {
        "id": "EEhXaM0puwXg"
      },
      "source": [
        "possible_combinations = []\r\n",
        "\r\n",
        "for i in np.arange(0,8):\r\n",
        "    for j in np.arange(0,8):\r\n",
        "        if group_winners.iloc[i,1] != group_runners.iloc[j,1] and group_winners.iloc[i,2] != group_runners.iloc[j,2] :\r\n",
        "            possible_combinations.append([group_winners.iloc[i,0], group_runners.iloc[j,0]])"
      ],
      "execution_count": null,
      "outputs": []
    },
    {
      "cell_type": "markdown",
      "metadata": {
        "id": "Nl8wOwIGrxXw"
      },
      "source": [
        "# Get all possible draws withing the rules"
      ]
    },
    {
      "cell_type": "code",
      "metadata": {
        "id": "0Yu4SE9_uyqQ"
      },
      "source": [
        "possible_draws = [] \r\n",
        "for draw in itertools.combinations(possible_combinations, 8):\r\n",
        "    draw_list = reduce(lambda x,y :x+y ,draw)\r\n",
        "    draw_set = set(draw_list)\r\n",
        "    if len(draw_set) == 16 :\r\n",
        "        possible_draws.append(draw)\r\n",
        "possible_draws_df = pd.DataFrame(possible_draws)\r\n",
        "possible_draws_df.head()"
      ],
      "execution_count": null,
      "outputs": []
    },
    {
      "cell_type": "markdown",
      "metadata": {
        "id": "D1_K7xU1r_QA"
      },
      "source": [
        "# Calculate probabilities for each pair based on all possible draws"
      ]
    },
    {
      "cell_type": "code",
      "metadata": {
        "id": "xUX204IC04nR"
      },
      "source": [
        "def get_pair_probs(possible_draws, team1, team2):\r\n",
        "  chances = 0\r\n",
        "  for draw in possible_draws:\r\n",
        "    for match in draw:\r\n",
        "      if match[0] == team1 and match[1] == team2 or match[0] == team2 and match[1] == team1 :\r\n",
        "        chances=chances+1\r\n",
        "\r\n",
        "  return round(chances/len(possible_draws),3)"
      ],
      "execution_count": null,
      "outputs": []
    },
    {
      "cell_type": "code",
      "metadata": {
        "colab": {
          "base_uri": "https://localhost:8080/",
          "height": 294
        },
        "id": "u4kJQz7RnP76",
        "outputId": "41762e0e-88cb-4fc4-a0f3-d0868521e939"
      },
      "source": [
        "chances_all = []\r\n",
        "\r\n",
        "for winner in group_winners.Team:\r\n",
        "  chances = []\r\n",
        "  for runner in group_runners.Team:\r\n",
        "    chances.append(get_pair_probs(possible_draws,winner,runner))\r\n",
        "  chances_all.append(chances)\r\n",
        "\r\n",
        "chances_all_df = pd.DataFrame(chances_all, columns=group_runners.Team.values, index=group_winners.Team.values)\r\n",
        "chances_all_df"
      ],
      "execution_count": null,
      "outputs": [
        {
          "output_type": "execute_result",
          "data": {
            "text/html": [
              "<div>\n",
              "<style scoped>\n",
              "    .dataframe tbody tr th:only-of-type {\n",
              "        vertical-align: middle;\n",
              "    }\n",
              "\n",
              "    .dataframe tbody tr th {\n",
              "        vertical-align: top;\n",
              "    }\n",
              "\n",
              "    .dataframe thead th {\n",
              "        text-align: right;\n",
              "    }\n",
              "</style>\n",
              "<table border=\"1\" class=\"dataframe\">\n",
              "  <thead>\n",
              "    <tr style=\"text-align: right;\">\n",
              "      <th></th>\n",
              "      <th>ATM</th>\n",
              "      <th>BMG</th>\n",
              "      <th>Porto</th>\n",
              "      <th>Atlanta</th>\n",
              "      <th>Sevilla</th>\n",
              "      <th>Lazio</th>\n",
              "      <th>Barcelona</th>\n",
              "      <th>Leipzig</th>\n",
              "    </tr>\n",
              "  </thead>\n",
              "  <tbody>\n",
              "    <tr>\n",
              "      <th>FCB</th>\n",
              "      <td>0.000</td>\n",
              "      <td>0.000</td>\n",
              "      <td>0.166</td>\n",
              "      <td>0.198</td>\n",
              "      <td>0.207</td>\n",
              "      <td>0.208</td>\n",
              "      <td>0.221</td>\n",
              "      <td>0.000</td>\n",
              "    </tr>\n",
              "    <tr>\n",
              "      <th>RM</th>\n",
              "      <td>0.000</td>\n",
              "      <td>0.000</td>\n",
              "      <td>0.200</td>\n",
              "      <td>0.234</td>\n",
              "      <td>0.000</td>\n",
              "      <td>0.257</td>\n",
              "      <td>0.000</td>\n",
              "      <td>0.309</td>\n",
              "    </tr>\n",
              "    <tr>\n",
              "      <th>City</th>\n",
              "      <td>0.142</td>\n",
              "      <td>0.180</td>\n",
              "      <td>0.000</td>\n",
              "      <td>0.123</td>\n",
              "      <td>0.132</td>\n",
              "      <td>0.131</td>\n",
              "      <td>0.137</td>\n",
              "      <td>0.156</td>\n",
              "    </tr>\n",
              "    <tr>\n",
              "      <th>Liverpool</th>\n",
              "      <td>0.144</td>\n",
              "      <td>0.185</td>\n",
              "      <td>0.108</td>\n",
              "      <td>0.000</td>\n",
              "      <td>0.134</td>\n",
              "      <td>0.133</td>\n",
              "      <td>0.139</td>\n",
              "      <td>0.158</td>\n",
              "    </tr>\n",
              "    <tr>\n",
              "      <th>Chelsea</th>\n",
              "      <td>0.145</td>\n",
              "      <td>0.185</td>\n",
              "      <td>0.109</td>\n",
              "      <td>0.126</td>\n",
              "      <td>0.000</td>\n",
              "      <td>0.135</td>\n",
              "      <td>0.139</td>\n",
              "      <td>0.161</td>\n",
              "    </tr>\n",
              "    <tr>\n",
              "      <th>Dortmund</th>\n",
              "      <td>0.221</td>\n",
              "      <td>0.000</td>\n",
              "      <td>0.162</td>\n",
              "      <td>0.190</td>\n",
              "      <td>0.208</td>\n",
              "      <td>0.000</td>\n",
              "      <td>0.218</td>\n",
              "      <td>0.000</td>\n",
              "    </tr>\n",
              "    <tr>\n",
              "      <th>Juventus</th>\n",
              "      <td>0.199</td>\n",
              "      <td>0.261</td>\n",
              "      <td>0.145</td>\n",
              "      <td>0.000</td>\n",
              "      <td>0.179</td>\n",
              "      <td>0.000</td>\n",
              "      <td>0.000</td>\n",
              "      <td>0.216</td>\n",
              "    </tr>\n",
              "    <tr>\n",
              "      <th>PSG</th>\n",
              "      <td>0.149</td>\n",
              "      <td>0.189</td>\n",
              "      <td>0.111</td>\n",
              "      <td>0.129</td>\n",
              "      <td>0.140</td>\n",
              "      <td>0.136</td>\n",
              "      <td>0.146</td>\n",
              "      <td>0.000</td>\n",
              "    </tr>\n",
              "  </tbody>\n",
              "</table>\n",
              "</div>"
            ],
            "text/plain": [
              "             ATM    BMG  Porto  Atlanta  Sevilla  Lazio  Barcelona  Leipzig\n",
              "FCB        0.000  0.000  0.166    0.198    0.207  0.208      0.221    0.000\n",
              "RM         0.000  0.000  0.200    0.234    0.000  0.257      0.000    0.309\n",
              "City       0.142  0.180  0.000    0.123    0.132  0.131      0.137    0.156\n",
              "Liverpool  0.144  0.185  0.108    0.000    0.134  0.133      0.139    0.158\n",
              "Chelsea    0.145  0.185  0.109    0.126    0.000  0.135      0.139    0.161\n",
              "Dortmund   0.221  0.000  0.162    0.190    0.208  0.000      0.218    0.000\n",
              "Juventus   0.199  0.261  0.145    0.000    0.179  0.000      0.000    0.216\n",
              "PSG        0.149  0.189  0.111    0.129    0.140  0.136      0.146    0.000"
            ]
          },
          "metadata": {
            "tags": []
          },
          "execution_count": 23
        }
      ]
    },
    {
      "cell_type": "markdown",
      "metadata": {
        "id": "RkCIhI2IsMol"
      },
      "source": [
        "# Visualize probas with heatmap"
      ]
    },
    {
      "cell_type": "code",
      "metadata": {
        "colab": {
          "base_uri": "https://localhost:8080/",
          "height": 428
        },
        "id": "tAyRaF1Gn5i7",
        "outputId": "27d7b162-1770-4fe2-aac9-7a82da95bb56"
      },
      "source": [
        "#sns.heatmap(chances_all_df, vmin=0, vmax=0.5, annot=True)\r\n",
        "\r\n",
        "with sns.axes_style(\"white\"):\r\n",
        "    f, ax = plt.subplots(figsize=(20, 7))\r\n",
        "    ax = sns.heatmap(chances_all_df, annot=True, square=True)"
      ],
      "execution_count": null,
      "outputs": [
        {
          "output_type": "display_data",
          "data": {
            "image/png": "[encoded data removed]",
            "text/plain": [
              "<Figure size 1440x504 with 2 Axes>"
            ]
          },
          "metadata": {
            "tags": []
          }
        }
      ]
    },
    {
      "cell_type": "markdown",
      "metadata": {
        "id": "OuE8tRFRsawq"
      },
      "source": [
        "# Accouting for bias in the drawing process"
      ]
    },
    {
      "cell_type": "code",
      "metadata": {
        "id": "Va__ZwDesd48"
      },
      "source": [
        ""
      ],
      "execution_count": null,
      "outputs": []
    }
  ]
}