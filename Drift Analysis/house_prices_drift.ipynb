{
 "cells": [
  {
   "cell_type": "markdown",
   "metadata": {},
   "source": [
    "# Import libs & Dataset"
   ]
  },
  {
   "cell_type": "code",
   "execution_count": 30,
   "metadata": {
    "ExecuteTime": {
     "end_time": "2021-01-22T06:07:23.894895Z",
     "start_time": "2021-01-22T06:07:22.860071Z"
    }
   },
   "outputs": [],
   "source": [
    "import numpy as np\n",
    "import os\n",
    "import tensorflow as tf\n",
    "import pandas as pd\n",
    "from sklearn.model_selection import train_test_split\n",
    "\n",
    "from alibi_detect.cd import KSDrift, MMDDrift\n",
    "from alibi_detect.cd.preprocess import UAE\n",
    "\n",
    "import matplotlib.pyplot as plt\n",
    "import seaborn as sns\n",
    "import plotly.figure_factory as ff\n",
    "\n",
    "import scipy as sp\n",
    "from scipy import stats\n",
    "from scipy.spatial.distance import pdist\n",
    "from scipy.stats import chisquare\n",
    "from scipy.stats import wasserstein_distance\n",
    "from statsmodels.stats.multitest import multipletests\n",
    "import statsmodels.stats.api as sms\n",
    "\n",
    "from sklearn.ensemble import RandomForestClassifier\n",
    "from sklearn.metrics import matthews_corrcoef, roc_auc_score\n",
    "\n",
    "from sklearn.model_selection import StratifiedKFold as StratifiedKFold\n",
    "\n",
    "import lime\n",
    "import lime.lime_tabular\n",
    "import shap\n",
    "\n",
    "import gower\n",
    "\n",
    "import logging"
   ]
  },
  {
   "cell_type": "code",
   "execution_count": 2,
   "metadata": {
    "ExecuteTime": {
     "end_time": "2021-01-22T05:17:11.232131Z",
     "start_time": "2021-01-22T05:17:11.072140Z"
    }
   },
   "outputs": [
    {
     "data": {
      "text/html": [
       "<div>\n",
       "<style scoped>\n",
       "    .dataframe tbody tr th:only-of-type {\n",
       "        vertical-align: middle;\n",
       "    }\n",
       "\n",
       "    .dataframe tbody tr th {\n",
       "        vertical-align: top;\n",
       "    }\n",
       "\n",
       "    .dataframe thead th {\n",
       "        text-align: right;\n",
       "    }\n",
       "</style>\n",
       "<table border=\"1\" class=\"dataframe\">\n",
       "  <thead>\n",
       "    <tr style=\"text-align: right;\">\n",
       "      <th></th>\n",
       "      <th>price</th>\n",
       "      <th>bedrooms</th>\n",
       "      <th>bathrooms</th>\n",
       "      <th>sqft_living</th>\n",
       "      <th>sqft_lot</th>\n",
       "      <th>floors</th>\n",
       "      <th>waterfront</th>\n",
       "      <th>view</th>\n",
       "      <th>condition</th>\n",
       "      <th>grade</th>\n",
       "      <th>sqft_above</th>\n",
       "      <th>sqft_basement</th>\n",
       "      <th>yr_built</th>\n",
       "      <th>yr_renovated</th>\n",
       "      <th>zipcode</th>\n",
       "      <th>lat</th>\n",
       "      <th>long</th>\n",
       "      <th>sqft_living15</th>\n",
       "      <th>sqft_lot15</th>\n",
       "    </tr>\n",
       "  </thead>\n",
       "  <tbody>\n",
       "    <tr>\n",
       "      <th>0</th>\n",
       "      <td>221900.0</td>\n",
       "      <td>3</td>\n",
       "      <td>1.00</td>\n",
       "      <td>1180</td>\n",
       "      <td>5650</td>\n",
       "      <td>1.0</td>\n",
       "      <td>0</td>\n",
       "      <td>0</td>\n",
       "      <td>3</td>\n",
       "      <td>7</td>\n",
       "      <td>1180</td>\n",
       "      <td>0</td>\n",
       "      <td>1955</td>\n",
       "      <td>0</td>\n",
       "      <td>98178</td>\n",
       "      <td>47.5112</td>\n",
       "      <td>-122.257</td>\n",
       "      <td>1340</td>\n",
       "      <td>5650</td>\n",
       "    </tr>\n",
       "    <tr>\n",
       "      <th>1</th>\n",
       "      <td>538000.0</td>\n",
       "      <td>3</td>\n",
       "      <td>2.25</td>\n",
       "      <td>2570</td>\n",
       "      <td>7242</td>\n",
       "      <td>2.0</td>\n",
       "      <td>0</td>\n",
       "      <td>0</td>\n",
       "      <td>3</td>\n",
       "      <td>7</td>\n",
       "      <td>2170</td>\n",
       "      <td>400</td>\n",
       "      <td>1951</td>\n",
       "      <td>1991</td>\n",
       "      <td>98125</td>\n",
       "      <td>47.7210</td>\n",
       "      <td>-122.319</td>\n",
       "      <td>1690</td>\n",
       "      <td>7639</td>\n",
       "    </tr>\n",
       "    <tr>\n",
       "      <th>2</th>\n",
       "      <td>180000.0</td>\n",
       "      <td>2</td>\n",
       "      <td>1.00</td>\n",
       "      <td>770</td>\n",
       "      <td>10000</td>\n",
       "      <td>1.0</td>\n",
       "      <td>0</td>\n",
       "      <td>0</td>\n",
       "      <td>3</td>\n",
       "      <td>6</td>\n",
       "      <td>770</td>\n",
       "      <td>0</td>\n",
       "      <td>1933</td>\n",
       "      <td>0</td>\n",
       "      <td>98028</td>\n",
       "      <td>47.7379</td>\n",
       "      <td>-122.233</td>\n",
       "      <td>2720</td>\n",
       "      <td>8062</td>\n",
       "    </tr>\n",
       "    <tr>\n",
       "      <th>3</th>\n",
       "      <td>604000.0</td>\n",
       "      <td>4</td>\n",
       "      <td>3.00</td>\n",
       "      <td>1960</td>\n",
       "      <td>5000</td>\n",
       "      <td>1.0</td>\n",
       "      <td>0</td>\n",
       "      <td>0</td>\n",
       "      <td>5</td>\n",
       "      <td>7</td>\n",
       "      <td>1050</td>\n",
       "      <td>910</td>\n",
       "      <td>1965</td>\n",
       "      <td>0</td>\n",
       "      <td>98136</td>\n",
       "      <td>47.5208</td>\n",
       "      <td>-122.393</td>\n",
       "      <td>1360</td>\n",
       "      <td>5000</td>\n",
       "    </tr>\n",
       "    <tr>\n",
       "      <th>4</th>\n",
       "      <td>510000.0</td>\n",
       "      <td>3</td>\n",
       "      <td>2.00</td>\n",
       "      <td>1680</td>\n",
       "      <td>8080</td>\n",
       "      <td>1.0</td>\n",
       "      <td>0</td>\n",
       "      <td>0</td>\n",
       "      <td>3</td>\n",
       "      <td>8</td>\n",
       "      <td>1680</td>\n",
       "      <td>0</td>\n",
       "      <td>1987</td>\n",
       "      <td>0</td>\n",
       "      <td>98074</td>\n",
       "      <td>47.6168</td>\n",
       "      <td>-122.045</td>\n",
       "      <td>1800</td>\n",
       "      <td>7503</td>\n",
       "    </tr>\n",
       "  </tbody>\n",
       "</table>\n",
       "</div>"
      ],
      "text/plain": [
       "      price  bedrooms  bathrooms  sqft_living  sqft_lot  floors  waterfront  \\\n",
       "0  221900.0         3       1.00         1180      5650     1.0           0   \n",
       "1  538000.0         3       2.25         2570      7242     2.0           0   \n",
       "2  180000.0         2       1.00          770     10000     1.0           0   \n",
       "3  604000.0         4       3.00         1960      5000     1.0           0   \n",
       "4  510000.0         3       2.00         1680      8080     1.0           0   \n",
       "\n",
       "   view  condition  grade  sqft_above  sqft_basement  yr_built  yr_renovated  \\\n",
       "0     0          3      7        1180              0      1955             0   \n",
       "1     0          3      7        2170            400      1951          1991   \n",
       "2     0          3      6         770              0      1933             0   \n",
       "3     0          5      7        1050            910      1965             0   \n",
       "4     0          3      8        1680              0      1987             0   \n",
       "\n",
       "   zipcode      lat     long  sqft_living15  sqft_lot15  \n",
       "0    98178  47.5112 -122.257           1340        5650  \n",
       "1    98125  47.7210 -122.319           1690        7639  \n",
       "2    98028  47.7379 -122.233           2720        8062  \n",
       "3    98136  47.5208 -122.393           1360        5000  \n",
       "4    98074  47.6168 -122.045           1800        7503  "
      ]
     },
     "execution_count": 2,
     "metadata": {},
     "output_type": "execute_result"
    }
   ],
   "source": [
    "OUTPUT_FILE = \"houseprices.csv\"\n",
    "\n",
    "houseprices_df = pd.read_csv(OUTPUT_FILE)\n",
    "houseprices_df.drop([\"id\",\"date\"], axis=1, inplace=True)\n",
    "houseprices_df.head()"
   ]
  },
  {
   "cell_type": "markdown",
   "metadata": {},
   "source": [
    "# Prepare dataset for the model : train as baseline, test as target "
   ]
  },
  {
   "cell_type": "code",
   "execution_count": 72,
   "metadata": {
    "ExecuteTime": {
     "end_time": "2021-01-22T09:13:06.943534Z",
     "start_time": "2021-01-22T09:13:06.917535Z"
    }
   },
   "outputs": [
    {
     "name": "stdout",
     "output_type": "stream",
     "text": [
      "Baseline dataset size: 17290\n",
      "Target dataset size: 4323\n"
     ]
    }
   ],
   "source": [
    "baseline_df, target_df = train_test_split(houseprices_df, test_size=0.2, random_state=10)\n",
    "\n",
    "print(\"Baseline dataset size: \" + str(len(houseprices_train)))\n",
    "print(\"Target dataset size: \" + str(len(houseprices_test)))"
   ]
  },
  {
   "cell_type": "markdown",
   "metadata": {},
   "source": [
    "# Initial EDA"
   ]
  },
  {
   "cell_type": "code",
   "execution_count": 16,
   "metadata": {
    "ExecuteTime": {
     "end_time": "2021-01-22T05:31:28.070047Z",
     "start_time": "2021-01-22T05:31:28.067046Z"
    }
   },
   "outputs": [],
   "source": [
    "continous_cols = ['price',  'sqft_living', 'sqft_lot', 'sqft_above', 'sqft_basement', 'yr_built', 'yr_renovated', \n",
    "                  'lat','long','sqft_living15', 'sqft_lot15']\n",
    "\n",
    "categorical_cols = ['bedrooms', 'bathrooms', 'floors', 'waterfront', 'view', 'condition', 'grade', 'zipcode']"
   ]
  },
  {
   "cell_type": "code",
   "execution_count": 21,
   "metadata": {
    "ExecuteTime": {
     "end_time": "2021-01-22T05:42:33.455352Z",
     "start_time": "2021-01-22T05:42:01.691552Z"
    },
    "scrolled": true
   },
   "outputs": [
    {
     "data": {
      "image/png": "[encoded data removed]",
      "text/plain": [
       "<Figure size 1080x360 with 2 Axes>"
      ]
     },
     "metadata": {
      "needs_background": "light"
     },
     "output_type": "display_data"
    },
    {
     "data": {
      "image/png": "[encoded data removed]",
      "text/plain": [
       "<Figure size 1080x360 with 2 Axes>"
      ]
     },
     "metadata": {
      "needs_background": "light"
     },
     "output_type": "display_data"
    },
    {
     "data": {
      "image/png": "[encoded data removed]",
      "text/plain": [
       "<Figure size 1080x360 with 2 Axes>"
      ]
     },
     "metadata": {
      "needs_background": "light"
     },
     "output_type": "display_data"
    },
    {
     "data": {
      "image/png": "[encoded data removed]",
      "text/plain": [
       "<Figure size 1080x360 with 2 Axes>"
      ]
     },
     "metadata": {
      "needs_background": "light"
     },
     "output_type": "display_data"
    },
    {
     "data": {
      "image/png": "[encoded data removed]",
      "text/plain": [
       "<Figure size 1080x360 with 2 Axes>"
      ]
     },
     "metadata": {
      "needs_background": "light"
     },
     "output_type": "display_data"
    },
    {
     "data": {
      "image/png": "[encoded data removed]",
      "text/plain": [
       "<Figure size 1080x360 with 2 Axes>"
      ]
     },
     "metadata": {
      "needs_background": "light"
     },
     "output_type": "display_data"
    },
    {
     "data": {
      "image/png": "[encoded data removed]",
      "text/plain": [
       "<Figure size 1080x360 with 2 Axes>"
      ]
     },
     "metadata": {
      "needs_background": "light"
     },
     "output_type": "display_data"
    },
    {
     "data": {
      "image/png": "[encoded data removed]",
      "text/plain": [
       "<Figure size 1080x360 with 2 Axes>"
      ]
     },
     "metadata": {
      "needs_background": "light"
     },
     "output_type": "display_data"
    },
    {
     "data": {
      "image/png": "[encoded data removed]",
      "text/plain": [
       "<Figure size 1080x360 with 2 Axes>"
      ]
     },
     "metadata": {
      "needs_background": "light"
     },
     "output_type": "display_data"
    },
    {
     "data": {
      "image/png": "[encoded data removed]",
      "text/plain": [
       "<Figure size 1080x360 with 2 Axes>"
      ]
     },
     "metadata": {
      "needs_background": "light"
     },
     "output_type": "display_data"
    },
    {
     "data": {
      "image/png": "[encoded data removed]",
      "text/plain": [
       "<Figure size 1080x360 with 2 Axes>"
      ]
     },
     "metadata": {
      "needs_background": "light"
     },
     "output_type": "display_data"
    }
   ],
   "source": [
    "for col in continous_cols:\n",
    "    baseline = baseline_df.loc[:,col]\n",
    "    target = target_df.loc[:,col]\n",
    "    \n",
    "    fig, (ax1, ax2) = plt.subplots(ncols=2,figsize=(15, 5))\n",
    "    sns.histplot(x=baseline, ax=ax1, stat='probability').set(title=\"Baseline/train\")\n",
    "    sns.histplot(x=target, ax=ax2, stat='probability').set(title=\"Target/test\")"
   ]
  },
  {
   "cell_type": "markdown",
   "metadata": {},
   "source": [
    "# Technique 1: Null Hypothesis testing using KS-test"
   ]
  },
  {
   "cell_type": "code",
   "execution_count": 73,
   "metadata": {
    "ExecuteTime": {
     "end_time": "2021-01-22T09:13:20.814854Z",
     "start_time": "2021-01-22T09:13:20.746855Z"
    }
   },
   "outputs": [
    {
     "data": {
      "text/html": [
       "<div>\n",
       "<style scoped>\n",
       "    .dataframe tbody tr th:only-of-type {\n",
       "        vertical-align: middle;\n",
       "    }\n",
       "\n",
       "    .dataframe tbody tr th {\n",
       "        vertical-align: top;\n",
       "    }\n",
       "\n",
       "    .dataframe thead th {\n",
       "        text-align: right;\n",
       "    }\n",
       "</style>\n",
       "<table border=\"1\" class=\"dataframe\">\n",
       "  <thead>\n",
       "    <tr style=\"text-align: right;\">\n",
       "      <th></th>\n",
       "      <th>Feature</th>\n",
       "      <th>PValue</th>\n",
       "    </tr>\n",
       "  </thead>\n",
       "  <tbody>\n",
       "    <tr>\n",
       "      <th>0</th>\n",
       "      <td>price</td>\n",
       "      <td>0.53</td>\n",
       "    </tr>\n",
       "    <tr>\n",
       "      <th>1</th>\n",
       "      <td>sqft_living</td>\n",
       "      <td>0.76</td>\n",
       "    </tr>\n",
       "    <tr>\n",
       "      <th>2</th>\n",
       "      <td>sqft_lot</td>\n",
       "      <td>0.93</td>\n",
       "    </tr>\n",
       "    <tr>\n",
       "      <th>3</th>\n",
       "      <td>sqft_above</td>\n",
       "      <td>0.65</td>\n",
       "    </tr>\n",
       "    <tr>\n",
       "      <th>4</th>\n",
       "      <td>sqft_basement</td>\n",
       "      <td>0.12</td>\n",
       "    </tr>\n",
       "    <tr>\n",
       "      <th>5</th>\n",
       "      <td>yr_built</td>\n",
       "      <td>0.58</td>\n",
       "    </tr>\n",
       "    <tr>\n",
       "      <th>6</th>\n",
       "      <td>yr_renovated</td>\n",
       "      <td>1.00</td>\n",
       "    </tr>\n",
       "    <tr>\n",
       "      <th>7</th>\n",
       "      <td>lat</td>\n",
       "      <td>0.38</td>\n",
       "    </tr>\n",
       "    <tr>\n",
       "      <th>8</th>\n",
       "      <td>long</td>\n",
       "      <td>0.24</td>\n",
       "    </tr>\n",
       "    <tr>\n",
       "      <th>9</th>\n",
       "      <td>sqft_living15</td>\n",
       "      <td>0.97</td>\n",
       "    </tr>\n",
       "    <tr>\n",
       "      <th>10</th>\n",
       "      <td>sqft_lot15</td>\n",
       "      <td>0.47</td>\n",
       "    </tr>\n",
       "    <tr>\n",
       "      <th>11</th>\n",
       "      <td>overall</td>\n",
       "      <td>0.88</td>\n",
       "    </tr>\n",
       "  </tbody>\n",
       "</table>\n",
       "</div>"
      ],
      "text/plain": [
       "          Feature  PValue\n",
       "0           price    0.53\n",
       "1     sqft_living    0.76\n",
       "2        sqft_lot    0.93\n",
       "3      sqft_above    0.65\n",
       "4   sqft_basement    0.12\n",
       "5        yr_built    0.58\n",
       "6    yr_renovated    1.00\n",
       "7             lat    0.38\n",
       "8            long    0.24\n",
       "9   sqft_living15    0.97\n",
       "10     sqft_lot15    0.47\n",
       "11        overall    0.88"
      ]
     },
     "execution_count": 73,
     "metadata": {},
     "output_type": "execute_result"
    }
   ],
   "source": [
    "pvalues = []\n",
    "data = []\n",
    "\n",
    "for col in continous_cols:\n",
    "    \n",
    "    baseline = baseline_df.loc[:,col]\n",
    "    target = target_df.loc[:,col]\n",
    "    \n",
    "    d_stat, p_val = stats.ks_2samp(baseline, target,mode='asymp')\n",
    "    pvalues.append(p_val.round(2))\n",
    "    data.append([col,p_val.round(2)])\n",
    "    \n",
    "d_stat, p_val = stats.combine_pvalues(pvalues, method='fisher')        \n",
    "data.append([\"overall\", p_val.round(2)])\n",
    "\n",
    "data_df = pd.DataFrame(data, columns=[\"Feature\", \"PValue\"])\n",
    "data_df"
   ]
  },
  {
   "cell_type": "code",
   "execution_count": 112,
   "metadata": {
    "ExecuteTime": {
     "end_time": "2021-01-22T10:28:17.779709Z",
     "start_time": "2021-01-22T10:28:17.754713Z"
    }
   },
   "outputs": [
    {
     "data": {
      "text/html": [
       "<div>\n",
       "<style scoped>\n",
       "    .dataframe tbody tr th:only-of-type {\n",
       "        vertical-align: middle;\n",
       "    }\n",
       "\n",
       "    .dataframe tbody tr th {\n",
       "        vertical-align: top;\n",
       "    }\n",
       "\n",
       "    .dataframe thead th {\n",
       "        text-align: right;\n",
       "    }\n",
       "</style>\n",
       "<table border=\"1\" class=\"dataframe\">\n",
       "  <thead>\n",
       "    <tr style=\"text-align: right;\">\n",
       "      <th></th>\n",
       "      <th>Feature</th>\n",
       "      <th>PValue</th>\n",
       "    </tr>\n",
       "  </thead>\n",
       "  <tbody>\n",
       "    <tr>\n",
       "      <th>0</th>\n",
       "      <td>floors</td>\n",
       "      <td>1.0</td>\n",
       "    </tr>\n",
       "    <tr>\n",
       "      <th>1</th>\n",
       "      <td>waterfront</td>\n",
       "      <td>1.0</td>\n",
       "    </tr>\n",
       "    <tr>\n",
       "      <th>2</th>\n",
       "      <td>view</td>\n",
       "      <td>1.0</td>\n",
       "    </tr>\n",
       "    <tr>\n",
       "      <th>3</th>\n",
       "      <td>condition</td>\n",
       "      <td>1.0</td>\n",
       "    </tr>\n",
       "    <tr>\n",
       "      <th>4</th>\n",
       "      <td>grade</td>\n",
       "      <td>1.0</td>\n",
       "    </tr>\n",
       "    <tr>\n",
       "      <th>5</th>\n",
       "      <td>zipcode</td>\n",
       "      <td>1.0</td>\n",
       "    </tr>\n",
       "  </tbody>\n",
       "</table>\n",
       "</div>"
      ],
      "text/plain": [
       "      Feature  PValue\n",
       "0      floors     1.0\n",
       "1  waterfront     1.0\n",
       "2        view     1.0\n",
       "3   condition     1.0\n",
       "4       grade     1.0\n",
       "5     zipcode     1.0"
      ]
     },
     "execution_count": 112,
     "metadata": {},
     "output_type": "execute_result"
    }
   ],
   "source": [
    "categorical_cols = ['floors', 'waterfront', 'view', 'condition', 'grade', 'zipcode'] #bedrooms bathrooms\n",
    "\n",
    "pvalues = []\n",
    "data = []\n",
    "\n",
    "for col in categorical_cols:\n",
    "    \n",
    "    baseline = baseline_df.loc[:,col].to_numpy()\n",
    "    target = target_df.loc[:,col].to_numpy()\n",
    "    \n",
    "    unique, counts = np.unique(baseline, return_counts=True)\n",
    "    baseline_freq = counts / len(baseline)\n",
    "    \n",
    "    unique, counts = np.unique(target, return_counts=True)\n",
    "    target_freq = counts / len(target)\n",
    "    \n",
    "    d_stat, p_val = stats.chisquare(target_freq, f_exp=baseline_freq)\n",
    "            \n",
    "    pvalues.append(p_val.round(2))\n",
    "    data.append([col,p_val.round(2)])\n",
    "    \n",
    "data_df = pd.DataFrame(data, columns=[\"Feature\", \"PValue\"])\n",
    "data_df"
   ]
  },
  {
   "cell_type": "markdown",
   "metadata": {},
   "source": [
    "# Technique 2: Comparing stats like Confidence intervals"
   ]
  },
  {
   "cell_type": "code",
   "execution_count": 74,
   "metadata": {
    "ExecuteTime": {
     "end_time": "2021-01-22T09:13:26.473007Z",
     "start_time": "2021-01-22T09:13:26.382007Z"
    }
   },
   "outputs": [
    {
     "data": {
      "text/html": [
       "<div>\n",
       "<style scoped>\n",
       "    .dataframe tbody tr th:only-of-type {\n",
       "        vertical-align: middle;\n",
       "    }\n",
       "\n",
       "    .dataframe tbody tr th {\n",
       "        vertical-align: top;\n",
       "    }\n",
       "\n",
       "    .dataframe thead th {\n",
       "        text-align: right;\n",
       "    }\n",
       "</style>\n",
       "<table border=\"1\" class=\"dataframe\">\n",
       "  <thead>\n",
       "    <tr style=\"text-align: right;\">\n",
       "      <th></th>\n",
       "      <th>Feature</th>\n",
       "      <th>CI_baseline</th>\n",
       "      <th>CI_target</th>\n",
       "      <th>CI_diff_in_mean</th>\n",
       "      <th>Cohen's_D</th>\n",
       "    </tr>\n",
       "  </thead>\n",
       "  <tbody>\n",
       "    <tr>\n",
       "      <th>0</th>\n",
       "      <td>price</td>\n",
       "      <td>(534828.0, 545658.0)</td>\n",
       "      <td>(528069.0, 550866.0)</td>\n",
       "      <td>(775.0, 776.0)</td>\n",
       "      <td>0.00</td>\n",
       "    </tr>\n",
       "    <tr>\n",
       "      <th>1</th>\n",
       "      <td>sqft_living</td>\n",
       "      <td>(2067.0, 2094.0)</td>\n",
       "      <td>(2051.0, 2106.0)</td>\n",
       "      <td>(2.0, 2.0)</td>\n",
       "      <td>0.00</td>\n",
       "    </tr>\n",
       "    <tr>\n",
       "      <th>2</th>\n",
       "      <td>sqft_lot</td>\n",
       "      <td>(14377.0, 15556.0)</td>\n",
       "      <td>(14231.0, 17106.0)</td>\n",
       "      <td>(-702.0, -702.0)</td>\n",
       "      <td>0.02</td>\n",
       "    </tr>\n",
       "    <tr>\n",
       "      <th>3</th>\n",
       "      <td>sqft_above</td>\n",
       "      <td>(1774.0, 1798.0)</td>\n",
       "      <td>(1773.0, 1823.0)</td>\n",
       "      <td>(-12.0, -12.0)</td>\n",
       "      <td>0.01</td>\n",
       "    </tr>\n",
       "    <tr>\n",
       "      <th>4</th>\n",
       "      <td>sqft_basement</td>\n",
       "      <td>(288.0, 301.0)</td>\n",
       "      <td>(268.0, 294.0)</td>\n",
       "      <td>(14.0, 14.0)</td>\n",
       "      <td>0.03</td>\n",
       "    </tr>\n",
       "    <tr>\n",
       "      <th>5</th>\n",
       "      <td>yr_built</td>\n",
       "      <td>(1970.0, 1971.0)</td>\n",
       "      <td>(1971.0, 1972.0)</td>\n",
       "      <td>(-1.0, -1.0)</td>\n",
       "      <td>0.02</td>\n",
       "    </tr>\n",
       "    <tr>\n",
       "      <th>6</th>\n",
       "      <td>yr_renovated</td>\n",
       "      <td>(80.0, 92.0)</td>\n",
       "      <td>(67.0, 90.0)</td>\n",
       "      <td>(8.0, 8.0)</td>\n",
       "      <td>0.02</td>\n",
       "    </tr>\n",
       "    <tr>\n",
       "      <th>7</th>\n",
       "      <td>lat</td>\n",
       "      <td>(48.0, 48.0)</td>\n",
       "      <td>(48.0, 48.0)</td>\n",
       "      <td>(0.0, 0.0)</td>\n",
       "      <td>0.02</td>\n",
       "    </tr>\n",
       "    <tr>\n",
       "      <th>8</th>\n",
       "      <td>long</td>\n",
       "      <td>(-122.0, -122.0)</td>\n",
       "      <td>(-122.0, -122.0)</td>\n",
       "      <td>(0.0, 0.0)</td>\n",
       "      <td>0.02</td>\n",
       "    </tr>\n",
       "    <tr>\n",
       "      <th>9</th>\n",
       "      <td>sqft_living15</td>\n",
       "      <td>(1979.0, 1999.0)</td>\n",
       "      <td>(1957.0, 1997.0)</td>\n",
       "      <td>(12.0, 12.0)</td>\n",
       "      <td>0.02</td>\n",
       "    </tr>\n",
       "    <tr>\n",
       "      <th>10</th>\n",
       "      <td>sqft_lot15</td>\n",
       "      <td>(12387.0, 13203.0)</td>\n",
       "      <td>(11857.0, 13467.0)</td>\n",
       "      <td>(133.0, 133.0)</td>\n",
       "      <td>0.00</td>\n",
       "    </tr>\n",
       "  </tbody>\n",
       "</table>\n",
       "</div>"
      ],
      "text/plain": [
       "          Feature           CI_baseline             CI_target  \\\n",
       "0           price  (534828.0, 545658.0)  (528069.0, 550866.0)   \n",
       "1     sqft_living      (2067.0, 2094.0)      (2051.0, 2106.0)   \n",
       "2        sqft_lot    (14377.0, 15556.0)    (14231.0, 17106.0)   \n",
       "3      sqft_above      (1774.0, 1798.0)      (1773.0, 1823.0)   \n",
       "4   sqft_basement        (288.0, 301.0)        (268.0, 294.0)   \n",
       "5        yr_built      (1970.0, 1971.0)      (1971.0, 1972.0)   \n",
       "6    yr_renovated          (80.0, 92.0)          (67.0, 90.0)   \n",
       "7             lat          (48.0, 48.0)          (48.0, 48.0)   \n",
       "8            long      (-122.0, -122.0)      (-122.0, -122.0)   \n",
       "9   sqft_living15      (1979.0, 1999.0)      (1957.0, 1997.0)   \n",
       "10     sqft_lot15    (12387.0, 13203.0)    (11857.0, 13467.0)   \n",
       "\n",
       "     CI_diff_in_mean  Cohen's_D  \n",
       "0     (775.0, 776.0)       0.00  \n",
       "1         (2.0, 2.0)       0.00  \n",
       "2   (-702.0, -702.0)       0.02  \n",
       "3     (-12.0, -12.0)       0.01  \n",
       "4       (14.0, 14.0)       0.03  \n",
       "5       (-1.0, -1.0)       0.02  \n",
       "6         (8.0, 8.0)       0.02  \n",
       "7         (0.0, 0.0)       0.02  \n",
       "8         (0.0, 0.0)       0.02  \n",
       "9       (12.0, 12.0)       0.02  \n",
       "10    (133.0, 133.0)       0.00  "
      ]
     },
     "execution_count": 74,
     "metadata": {},
     "output_type": "execute_result"
    }
   ],
   "source": [
    "def confidence_interval(series):\n",
    "       return sms.DescrStatsW(series).tconfint_mean()\n",
    "\n",
    "def confidence_interval_for_diff_in_mean(baseline, target):\n",
    "    n1 = len(baseline)\n",
    "    n2 = len(target)\n",
    "    mean_baseline = np.mean(baseline.values)\n",
    "    mean_target = np.mean(target.values)\n",
    "    sd_baseline = np.std(baseline.values)\n",
    "    sd_target = np.std(target.values)\n",
    "    \n",
    "    mean_d = mean_baseline - mean_target\n",
    "    \n",
    "    ## standard error for mean\n",
    "    sem_baseline = sd_baseline / np.sqrt(n1)\n",
    "    sem_target = sd_target / np.sqrt(n2)\n",
    "\n",
    "    ## difference in standard error\n",
    "    sem_d = (np.sqrt((n1-1)*sem_baseline**2 + (n2-1)*sem_target**2)/(n1+n2-2))*(np.sqrt(1/n1 + 1/n2))\n",
    "    \n",
    "    lcb = (mean_d - 1.96*sem_d).round()  #lower limit of the CI\n",
    "    ucb = (mean_d + 1.96*sem_d).round()  #upper limit of the CI\n",
    "    \n",
    "    return (lcb,ucb)\n",
    "\n",
    "def cohens_d(baseline, target):\n",
    "    n1 = len(baseline)\n",
    "    n2 = len(target)\n",
    "    \n",
    "    mean_baseline = np.mean(baseline.values)\n",
    "    mean_target = np.mean(target.values)\n",
    "    \n",
    "    sd_baseline = np.std(baseline.values)\n",
    "    sd_target = np.std(target.values)\n",
    "    \n",
    "    sd_pooled = np.sqrt((np.square(sd_baseline) + np.square(sd_target))/2)\n",
    "    #sd_pooled2 =  np.sqrt((np.var(baseline.values)*(n1-1) + np.var(target.values)*(n2-1)) / (n1 + n2 - 2))\n",
    "    \n",
    "    d = abs((mean_baseline - mean_target) / sd_pooled).round(2)\n",
    "    \n",
    "    return d\n",
    "    \n",
    "cis = []\n",
    "data = []\n",
    "\n",
    "for col in continous_cols:\n",
    "    \n",
    "    baseline = baseline_df.loc[:,col]\n",
    "    target = target_df.loc[:,col]\n",
    "    \n",
    "    ci_baseline = confidence_interval(baseline)\n",
    "    ci_baseline = (ci_baseline[0].round(), ci_baseline[1].round())\n",
    "    \n",
    "    ci_target = confidence_interval(target)\n",
    "    ci_target = (ci_target[0].round(), ci_target[1].round())\n",
    "    \n",
    "    #CI for difference in mean\n",
    "    ci_diff_in_mean = confidence_interval_for_diff_in_mean(baseline, target)\n",
    "    \n",
    "    #cohen's D\n",
    "    cohen_d = cohens_d(baseline, target)\n",
    "    \n",
    "    cis.append([col, ci_baseline, ci_target, ci_diff_in_mean, cohen_d\n",
    "               ])\n",
    "    \n",
    "cis_df = pd.DataFrame(cis, columns=[\"Feature\", \"CI_baseline\", \"CI_target\",\n",
    "                                    \"CI_diff_in_mean\", \"Cohen's_D\"\n",
    "                                   ])\n",
    "cis_df"
   ]
  },
  {
   "cell_type": "code",
   "execution_count": null,
   "metadata": {},
   "outputs": [],
   "source": [
    "categorical_cols = ['floors', 'waterfront', 'view', 'condition', 'grade', 'zipcode'] #bedrooms bathrooms\n",
    "\n",
    "pvalues = []\n",
    "data = []\n",
    "\n",
    "for col in categorical_cols:\n",
    "    \n",
    "    baseline = baseline_df.loc[:,col].to_numpy()\n",
    "    target = target_df.loc[:,col].to_numpy()\n",
    "    \n",
    "    unique, counts = np.unique(baseline, return_counts=True)\n",
    "    baseline_freq = counts / len(baseline)\n",
    "    \n",
    "    unique, counts = np.unique(target, return_counts=True)\n",
    "    target_freq = counts / len(target)\n",
    "    \n",
    "    d_stat, p_val = stats.chisquare(target_freq, f_exp=baseline_freq)\n",
    "            \n",
    "    pvalues.append(p_val.round(2))\n",
    "    data.append([col,p_val.round(2)])\n",
    "    \n",
    "data_df = pd.DataFrame(data, columns=[\"Feature\", \"PValue\"])\n",
    "data_df"
   ]
  },
  {
   "cell_type": "markdown",
   "metadata": {},
   "source": [
    "# Repeat above analysis on a different target dataset with drift"
   ]
  },
  {
   "cell_type": "code",
   "execution_count": 114,
   "metadata": {
    "ExecuteTime": {
     "end_time": "2021-01-22T10:30:30.486012Z",
     "start_time": "2021-01-22T10:30:30.464006Z"
    }
   },
   "outputs": [
    {
     "data": {
      "text/plain": [
       "957      3100\n",
       "14143    3230\n",
       "19452    1290\n",
       "20510    2390\n",
       "18354    2700\n",
       "         ... \n",
       "5349     2690\n",
       "11082    3240\n",
       "4413     4740\n",
       "17461    2720\n",
       "9848     2610\n",
       "Name: sqft_living, Length: 4323, dtype: int64"
      ]
     },
     "execution_count": 114,
     "metadata": {},
     "output_type": "execute_result"
    }
   ],
   "source": [
    "target_drift_df = target_df.copy()\n",
    "target_drift_df[\"sqft_living\"] = target_drift_df[\"sqft_living\"].apply(lambda x: (x+1000))\n",
    "target_drift_df[\"floors\"] = target_drift_df[\"floors\"].apply(lambda x: 3)\n",
    "\n",
    "target_drift_df[\"sqft_living\"]"
   ]
  },
  {
   "cell_type": "markdown",
   "metadata": {},
   "source": [
    "## Initial EDA"
   ]
  },
  {
   "cell_type": "code",
   "execution_count": 85,
   "metadata": {
    "ExecuteTime": {
     "end_time": "2021-01-22T09:54:38.841163Z",
     "start_time": "2021-01-22T09:54:37.995165Z"
    }
   },
   "outputs": [
    {
     "data": {
      "text/html": [
       "[Text(0.5, 1.0, 'Target/test')]"
      ],
      "text/plain": [
       "[Text(0.5, 1.0, 'Target/test')]"
      ]
     },
     "execution_count": 85,
     "metadata": {},
     "output_type": "execute_result"
    },
    {
     "data": {
      "image/png": "[encoded data removed]",
      "text/plain": [
       "<Figure size 1080x360 with 2 Axes>"
      ]
     },
     "metadata": {
      "needs_background": "light"
     },
     "output_type": "display_data"
    }
   ],
   "source": [
    "col = \"sqft_living\"\n",
    "baseline = baseline_df.loc[:,col]\n",
    "target = target_drift_df.loc[:,col]\n",
    "\n",
    "fig, (ax1, ax2) = plt.subplots(ncols=2,figsize=(15, 5))\n",
    "sns.histplot(x=baseline, ax=ax1, stat='probability', bins=10).set(title=\"Baseline/train\")\n",
    "sns.histplot(x=target, ax=ax2, stat='probability', bins=10).set(title=\"Target/test\")"
   ]
  },
  {
   "cell_type": "code",
   "execution_count": 117,
   "metadata": {
    "ExecuteTime": {
     "end_time": "2021-01-22T10:33:00.113747Z",
     "start_time": "2021-01-22T10:32:59.857753Z"
    }
   },
   "outputs": [
    {
     "data": {
      "text/html": [
       "[Text(0.5, 1.0, 'Target/test')]"
      ],
      "text/plain": [
       "[Text(0.5, 1.0, 'Target/test')]"
      ]
     },
     "execution_count": 117,
     "metadata": {},
     "output_type": "execute_result"
    },
    {
     "data": {
      "image/png": "[encoded data removed]",
      "text/plain": [
       "<Figure size 1080x360 with 2 Axes>"
      ]
     },
     "metadata": {
      "needs_background": "light"
     },
     "output_type": "display_data"
    }
   ],
   "source": [
    "col = \"floors\"\n",
    "baseline = baseline_df.loc[:,col]\n",
    "target = target_drift_df.loc[:,col]\n",
    "\n",
    "fig, (ax1, ax2) = plt.subplots(ncols=2,figsize=(15, 5))\n",
    "sns.countplot(x=baseline, ax=ax1).set(title=\"Baseline/train\")\n",
    "sns.countplot(x=target, ax=ax2).set(title=\"Target/test\")"
   ]
  },
  {
   "cell_type": "markdown",
   "metadata": {},
   "source": [
    "## Technique 1: Null Hypothesis testing using KS-test"
   ]
  },
  {
   "cell_type": "code",
   "execution_count": 89,
   "metadata": {
    "ExecuteTime": {
     "end_time": "2021-01-22T09:56:28.321797Z",
     "start_time": "2021-01-22T09:56:28.250800Z"
    }
   },
   "outputs": [
    {
     "name": "stderr",
     "output_type": "stream",
     "text": [
      "C:\\Users\\I301903\\AppData\\Local\\Continuum\\anaconda3\\lib\\site-packages\\scipy\\stats\\stats.py:6895: RuntimeWarning:\n",
      "\n",
      "divide by zero encountered in log\n",
      "\n"
     ]
    },
    {
     "data": {
      "text/html": [
       "<div>\n",
       "<style scoped>\n",
       "    .dataframe tbody tr th:only-of-type {\n",
       "        vertical-align: middle;\n",
       "    }\n",
       "\n",
       "    .dataframe tbody tr th {\n",
       "        vertical-align: top;\n",
       "    }\n",
       "\n",
       "    .dataframe thead th {\n",
       "        text-align: right;\n",
       "    }\n",
       "</style>\n",
       "<table border=\"1\" class=\"dataframe\">\n",
       "  <thead>\n",
       "    <tr style=\"text-align: right;\">\n",
       "      <th></th>\n",
       "      <th>Feature</th>\n",
       "      <th>PValue</th>\n",
       "    </tr>\n",
       "  </thead>\n",
       "  <tbody>\n",
       "    <tr>\n",
       "      <th>0</th>\n",
       "      <td>price</td>\n",
       "      <td>0.53</td>\n",
       "    </tr>\n",
       "    <tr>\n",
       "      <th>1</th>\n",
       "      <td>sqft_living</td>\n",
       "      <td>0.00</td>\n",
       "    </tr>\n",
       "    <tr>\n",
       "      <th>2</th>\n",
       "      <td>sqft_lot</td>\n",
       "      <td>0.93</td>\n",
       "    </tr>\n",
       "    <tr>\n",
       "      <th>3</th>\n",
       "      <td>sqft_above</td>\n",
       "      <td>0.65</td>\n",
       "    </tr>\n",
       "    <tr>\n",
       "      <th>4</th>\n",
       "      <td>sqft_basement</td>\n",
       "      <td>0.12</td>\n",
       "    </tr>\n",
       "    <tr>\n",
       "      <th>5</th>\n",
       "      <td>yr_built</td>\n",
       "      <td>0.58</td>\n",
       "    </tr>\n",
       "    <tr>\n",
       "      <th>6</th>\n",
       "      <td>yr_renovated</td>\n",
       "      <td>1.00</td>\n",
       "    </tr>\n",
       "    <tr>\n",
       "      <th>7</th>\n",
       "      <td>lat</td>\n",
       "      <td>0.38</td>\n",
       "    </tr>\n",
       "    <tr>\n",
       "      <th>8</th>\n",
       "      <td>long</td>\n",
       "      <td>0.24</td>\n",
       "    </tr>\n",
       "    <tr>\n",
       "      <th>9</th>\n",
       "      <td>sqft_living15</td>\n",
       "      <td>0.97</td>\n",
       "    </tr>\n",
       "    <tr>\n",
       "      <th>10</th>\n",
       "      <td>sqft_lot15</td>\n",
       "      <td>0.47</td>\n",
       "    </tr>\n",
       "    <tr>\n",
       "      <th>11</th>\n",
       "      <td>overall</td>\n",
       "      <td>0.00</td>\n",
       "    </tr>\n",
       "  </tbody>\n",
       "</table>\n",
       "</div>"
      ],
      "text/plain": [
       "          Feature  PValue\n",
       "0           price    0.53\n",
       "1     sqft_living    0.00\n",
       "2        sqft_lot    0.93\n",
       "3      sqft_above    0.65\n",
       "4   sqft_basement    0.12\n",
       "5        yr_built    0.58\n",
       "6    yr_renovated    1.00\n",
       "7             lat    0.38\n",
       "8            long    0.24\n",
       "9   sqft_living15    0.97\n",
       "10     sqft_lot15    0.47\n",
       "11        overall    0.00"
      ]
     },
     "execution_count": 89,
     "metadata": {},
     "output_type": "execute_result"
    }
   ],
   "source": [
    "pvalues = []\n",
    "data = []\n",
    "\n",
    "for col in continous_cols:\n",
    "    \n",
    "    baseline = baseline_df.loc[:,col]\n",
    "    target = target_drift_df.loc[:,col]\n",
    "    \n",
    "    d_stat, p_val = stats.ks_2samp(baseline, target,mode='asymp')\n",
    "    pvalues.append(p_val.round(2))\n",
    "    data.append([col,p_val.round(2)])\n",
    "    \n",
    "d_stat, p_val = stats.combine_pvalues(pvalues, method='fisher')        \n",
    "data.append([\"overall\", p_val.round(2)])\n",
    "\n",
    "data_df = pd.DataFrame(data, columns=[\"Feature\", \"PValue\"])\n",
    "data_df"
   ]
  },
  {
   "cell_type": "code",
   "execution_count": 118,
   "metadata": {
    "ExecuteTime": {
     "end_time": "2021-01-22T10:33:52.429857Z",
     "start_time": "2021-01-22T10:33:52.401859Z"
    }
   },
   "outputs": [
    {
     "data": {
      "text/html": [
       "<div>\n",
       "<style scoped>\n",
       "    .dataframe tbody tr th:only-of-type {\n",
       "        vertical-align: middle;\n",
       "    }\n",
       "\n",
       "    .dataframe tbody tr th {\n",
       "        vertical-align: top;\n",
       "    }\n",
       "\n",
       "    .dataframe thead th {\n",
       "        text-align: right;\n",
       "    }\n",
       "</style>\n",
       "<table border=\"1\" class=\"dataframe\">\n",
       "  <thead>\n",
       "    <tr style=\"text-align: right;\">\n",
       "      <th></th>\n",
       "      <th>Feature</th>\n",
       "      <th>PValue</th>\n",
       "    </tr>\n",
       "  </thead>\n",
       "  <tbody>\n",
       "    <tr>\n",
       "      <th>0</th>\n",
       "      <td>floors</td>\n",
       "      <td>0.0</td>\n",
       "    </tr>\n",
       "    <tr>\n",
       "      <th>1</th>\n",
       "      <td>waterfront</td>\n",
       "      <td>1.0</td>\n",
       "    </tr>\n",
       "    <tr>\n",
       "      <th>2</th>\n",
       "      <td>view</td>\n",
       "      <td>1.0</td>\n",
       "    </tr>\n",
       "    <tr>\n",
       "      <th>3</th>\n",
       "      <td>condition</td>\n",
       "      <td>1.0</td>\n",
       "    </tr>\n",
       "    <tr>\n",
       "      <th>4</th>\n",
       "      <td>grade</td>\n",
       "      <td>1.0</td>\n",
       "    </tr>\n",
       "    <tr>\n",
       "      <th>5</th>\n",
       "      <td>zipcode</td>\n",
       "      <td>1.0</td>\n",
       "    </tr>\n",
       "  </tbody>\n",
       "</table>\n",
       "</div>"
      ],
      "text/plain": [
       "      Feature  PValue\n",
       "0      floors     0.0\n",
       "1  waterfront     1.0\n",
       "2        view     1.0\n",
       "3   condition     1.0\n",
       "4       grade     1.0\n",
       "5     zipcode     1.0"
      ]
     },
     "execution_count": 118,
     "metadata": {},
     "output_type": "execute_result"
    }
   ],
   "source": [
    "pvalues = []\n",
    "data = []\n",
    "\n",
    "for col in categorical_cols:\n",
    "    \n",
    "    baseline = baseline_df.loc[:,col].to_numpy()\n",
    "    target = target_drift_df.loc[:,col].to_numpy()\n",
    "    \n",
    "    unique, counts = np.unique(baseline, return_counts=True)\n",
    "    baseline_freq = counts / len(baseline)\n",
    "    \n",
    "    unique, counts = np.unique(target, return_counts=True)\n",
    "    target_freq = counts / len(target)\n",
    "    \n",
    "    d_stat, p_val = stats.chisquare(target_freq, f_exp=baseline_freq)\n",
    "            \n",
    "    pvalues.append(p_val.round(2))\n",
    "    data.append([col,p_val.round(2)])\n",
    "    \n",
    "data_df = pd.DataFrame(data, columns=[\"Feature\", \"PValue\"])\n",
    "data_df"
   ]
  },
  {
   "cell_type": "markdown",
   "metadata": {},
   "source": [
    "## Technique 2: Comparing stats like Confidence intervals"
   ]
  },
  {
   "cell_type": "code",
   "execution_count": 91,
   "metadata": {
    "ExecuteTime": {
     "end_time": "2021-01-22T09:57:37.032671Z",
     "start_time": "2021-01-22T09:57:36.944885Z"
    }
   },
   "outputs": [
    {
     "data": {
      "text/html": [
       "<div>\n",
       "<style scoped>\n",
       "    .dataframe tbody tr th:only-of-type {\n",
       "        vertical-align: middle;\n",
       "    }\n",
       "\n",
       "    .dataframe tbody tr th {\n",
       "        vertical-align: top;\n",
       "    }\n",
       "\n",
       "    .dataframe thead th {\n",
       "        text-align: right;\n",
       "    }\n",
       "</style>\n",
       "<table border=\"1\" class=\"dataframe\">\n",
       "  <thead>\n",
       "    <tr style=\"text-align: right;\">\n",
       "      <th></th>\n",
       "      <th>Feature</th>\n",
       "      <th>CI_baseline</th>\n",
       "      <th>CI_target</th>\n",
       "      <th>CI_diff_in_mean</th>\n",
       "      <th>Cohen's_D</th>\n",
       "    </tr>\n",
       "  </thead>\n",
       "  <tbody>\n",
       "    <tr>\n",
       "      <th>0</th>\n",
       "      <td>price</td>\n",
       "      <td>(534828.0, 545658.0)</td>\n",
       "      <td>(528069.0, 550866.0)</td>\n",
       "      <td>(775.0, 776.0)</td>\n",
       "      <td>0.00</td>\n",
       "    </tr>\n",
       "    <tr>\n",
       "      <th>1</th>\n",
       "      <td>sqft_living</td>\n",
       "      <td>(2067.0, 2094.0)</td>\n",
       "      <td>(3051.0, 3106.0)</td>\n",
       "      <td>(-998.0, -998.0)</td>\n",
       "      <td>1.08</td>\n",
       "    </tr>\n",
       "    <tr>\n",
       "      <th>2</th>\n",
       "      <td>sqft_lot</td>\n",
       "      <td>(14377.0, 15556.0)</td>\n",
       "      <td>(14231.0, 17106.0)</td>\n",
       "      <td>(-702.0, -702.0)</td>\n",
       "      <td>0.02</td>\n",
       "    </tr>\n",
       "    <tr>\n",
       "      <th>3</th>\n",
       "      <td>sqft_above</td>\n",
       "      <td>(1774.0, 1798.0)</td>\n",
       "      <td>(1773.0, 1823.0)</td>\n",
       "      <td>(-12.0, -12.0)</td>\n",
       "      <td>0.01</td>\n",
       "    </tr>\n",
       "    <tr>\n",
       "      <th>4</th>\n",
       "      <td>sqft_basement</td>\n",
       "      <td>(288.0, 301.0)</td>\n",
       "      <td>(268.0, 294.0)</td>\n",
       "      <td>(14.0, 14.0)</td>\n",
       "      <td>0.03</td>\n",
       "    </tr>\n",
       "    <tr>\n",
       "      <th>5</th>\n",
       "      <td>yr_built</td>\n",
       "      <td>(1970.0, 1971.0)</td>\n",
       "      <td>(1971.0, 1972.0)</td>\n",
       "      <td>(-1.0, -1.0)</td>\n",
       "      <td>0.02</td>\n",
       "    </tr>\n",
       "    <tr>\n",
       "      <th>6</th>\n",
       "      <td>yr_renovated</td>\n",
       "      <td>(80.0, 92.0)</td>\n",
       "      <td>(67.0, 90.0)</td>\n",
       "      <td>(8.0, 8.0)</td>\n",
       "      <td>0.02</td>\n",
       "    </tr>\n",
       "    <tr>\n",
       "      <th>7</th>\n",
       "      <td>lat</td>\n",
       "      <td>(48.0, 48.0)</td>\n",
       "      <td>(48.0, 48.0)</td>\n",
       "      <td>(0.0, 0.0)</td>\n",
       "      <td>0.02</td>\n",
       "    </tr>\n",
       "    <tr>\n",
       "      <th>8</th>\n",
       "      <td>long</td>\n",
       "      <td>(-122.0, -122.0)</td>\n",
       "      <td>(-122.0, -122.0)</td>\n",
       "      <td>(0.0, 0.0)</td>\n",
       "      <td>0.02</td>\n",
       "    </tr>\n",
       "    <tr>\n",
       "      <th>9</th>\n",
       "      <td>sqft_living15</td>\n",
       "      <td>(1979.0, 1999.0)</td>\n",
       "      <td>(1957.0, 1997.0)</td>\n",
       "      <td>(12.0, 12.0)</td>\n",
       "      <td>0.02</td>\n",
       "    </tr>\n",
       "    <tr>\n",
       "      <th>10</th>\n",
       "      <td>sqft_lot15</td>\n",
       "      <td>(12387.0, 13203.0)</td>\n",
       "      <td>(11857.0, 13467.0)</td>\n",
       "      <td>(133.0, 133.0)</td>\n",
       "      <td>0.00</td>\n",
       "    </tr>\n",
       "  </tbody>\n",
       "</table>\n",
       "</div>"
      ],
      "text/plain": [
       "          Feature           CI_baseline             CI_target  \\\n",
       "0           price  (534828.0, 545658.0)  (528069.0, 550866.0)   \n",
       "1     sqft_living      (2067.0, 2094.0)      (3051.0, 3106.0)   \n",
       "2        sqft_lot    (14377.0, 15556.0)    (14231.0, 17106.0)   \n",
       "3      sqft_above      (1774.0, 1798.0)      (1773.0, 1823.0)   \n",
       "4   sqft_basement        (288.0, 301.0)        (268.0, 294.0)   \n",
       "5        yr_built      (1970.0, 1971.0)      (1971.0, 1972.0)   \n",
       "6    yr_renovated          (80.0, 92.0)          (67.0, 90.0)   \n",
       "7             lat          (48.0, 48.0)          (48.0, 48.0)   \n",
       "8            long      (-122.0, -122.0)      (-122.0, -122.0)   \n",
       "9   sqft_living15      (1979.0, 1999.0)      (1957.0, 1997.0)   \n",
       "10     sqft_lot15    (12387.0, 13203.0)    (11857.0, 13467.0)   \n",
       "\n",
       "     CI_diff_in_mean  Cohen's_D  \n",
       "0     (775.0, 776.0)       0.00  \n",
       "1   (-998.0, -998.0)       1.08  \n",
       "2   (-702.0, -702.0)       0.02  \n",
       "3     (-12.0, -12.0)       0.01  \n",
       "4       (14.0, 14.0)       0.03  \n",
       "5       (-1.0, -1.0)       0.02  \n",
       "6         (8.0, 8.0)       0.02  \n",
       "7         (0.0, 0.0)       0.02  \n",
       "8         (0.0, 0.0)       0.02  \n",
       "9       (12.0, 12.0)       0.02  \n",
       "10    (133.0, 133.0)       0.00  "
      ]
     },
     "execution_count": 91,
     "metadata": {},
     "output_type": "execute_result"
    }
   ],
   "source": [
    "def confidence_interval(series):\n",
    "       return sms.DescrStatsW(series).tconfint_mean()\n",
    "\n",
    "def confidence_interval_for_diff_in_mean(baseline, target):\n",
    "    n1 = len(baseline)\n",
    "    n2 = len(target)\n",
    "    mean_baseline = np.mean(baseline.values)\n",
    "    mean_target = np.mean(target.values)\n",
    "    sd_baseline = np.std(baseline.values)\n",
    "    sd_target = np.std(target.values)\n",
    "    \n",
    "    mean_d = mean_baseline - mean_target\n",
    "    \n",
    "    ## standard error for mean\n",
    "    sem_baseline = sd_baseline / np.sqrt(n1)\n",
    "    sem_target = sd_target / np.sqrt(n2)\n",
    "\n",
    "    ## difference in standard error\n",
    "    sem_d = (np.sqrt((n1-1)*sem_baseline**2 + (n2-1)*sem_target**2)/(n1+n2-2))*(np.sqrt(1/n1 + 1/n2))\n",
    "    \n",
    "    lcb = (mean_d - 1.96*sem_d).round()  #lower limit of the CI\n",
    "    ucb = (mean_d + 1.96*sem_d).round()  #upper limit of the CI\n",
    "    \n",
    "    return (lcb,ucb)\n",
    "\n",
    "def cohens_d(baseline, target):\n",
    "    n1 = len(baseline)\n",
    "    n2 = len(target)\n",
    "    \n",
    "    mean_baseline = np.mean(baseline.values)\n",
    "    mean_target = np.mean(target.values)\n",
    "    \n",
    "    sd_baseline = np.std(baseline.values)\n",
    "    sd_target = np.std(target.values)\n",
    "    \n",
    "    sd_pooled = np.sqrt((np.square(sd_baseline) + np.square(sd_target))/2)\n",
    "    #sd_pooled2 =  np.sqrt((np.var(baseline.values)*(n1-1) + np.var(target.values)*(n2-1)) / (n1 + n2 - 2))\n",
    "    \n",
    "    d = abs((mean_baseline - mean_target) / sd_pooled).round(2)\n",
    "    \n",
    "    return d\n",
    "    \n",
    "cis = []\n",
    "data = []\n",
    "\n",
    "for col in continous_cols:\n",
    "    \n",
    "    baseline = baseline_df.loc[:,col]\n",
    "    target = target_drift_df.loc[:,col]\n",
    "    \n",
    "    ci_baseline = confidence_interval(baseline)\n",
    "    ci_baseline = (ci_baseline[0].round(), ci_baseline[1].round())\n",
    "    \n",
    "    ci_target = confidence_interval(target)\n",
    "    ci_target = (ci_target[0].round(), ci_target[1].round())\n",
    "    \n",
    "    #CI for difference in mean\n",
    "    ci_diff_in_mean = confidence_interval_for_diff_in_mean(baseline, target)\n",
    "    \n",
    "    #cohen's D\n",
    "    cohen_d = cohens_d(baseline, target)\n",
    "    \n",
    "    cis.append([col, ci_baseline, ci_target, ci_diff_in_mean, cohen_d\n",
    "               ])\n",
    "    \n",
    "cis_df = pd.DataFrame(cis, columns=[\"Feature\", \"CI_baseline\", \"CI_target\",\n",
    "                                    \"CI_diff_in_mean\", \"Cohen's_D\"\n",
    "                                   ])\n",
    "cis_df"
   ]
  },
  {
   "cell_type": "code",
   "execution_count": null,
   "metadata": {},
   "outputs": [],
   "source": []
  }
 ],
 "metadata": {
  "kernelspec": {
   "display_name": "Python 3",
   "language": "python",
   "name": "python3"
  },
  "language_info": {
   "codemirror_mode": {
    "name": "ipython",
    "version": 3
   },
   "file_extension": ".py",
   "mimetype": "text/x-python",
   "name": "python",
   "nbconvert_exporter": "python",
   "pygments_lexer": "ipython3",
   "version": "3.7.3"
  },
  "toc": {
   "base_numbering": 1,
   "nav_menu": {},
   "number_sections": true,
   "sideBar": true,
   "skip_h1_title": false,
   "title_cell": "Table of Contents",
   "title_sidebar": "Contents",
   "toc_cell": false,
   "toc_position": {},
   "toc_section_display": true,
   "toc_window_display": false
  },
  "varInspector": {
   "cols": {
    "lenName": 16,
    "lenType": 16,
    "lenVar": 40
   },
   "kernels_config": {
    "python": {
     "delete_cmd_postfix": "",
     "delete_cmd_prefix": "del ",
     "library": "var_list.py",
     "varRefreshCmd": "print(var_dic_list())"
    },
    "r": {
     "delete_cmd_postfix": ") ",
     "delete_cmd_prefix": "rm(",
     "library": "var_list.r",
     "varRefreshCmd": "cat(var_dic_list()) "
    }
   },
   "types_to_exclude": [
    "module",
    "function",
    "builtin_function_or_method",
    "instance",
    "_Feature"
   ],
   "window_display": false
  }
 },
 "nbformat": 4,
 "nbformat_minor": 4
}
